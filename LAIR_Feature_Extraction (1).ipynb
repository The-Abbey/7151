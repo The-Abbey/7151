{
  "nbformat": 4,
  "nbformat_minor": 0,
  "metadata": {
    "colab": {
      "provenance": []
    },
    "kernelspec": {
      "name": "python3",
      "display_name": "Python 3"
    },
    "language_info": {
      "name": "python"
    },
    "accelerator": "GPU",
    "gpuClass": "standard"
  },
  "cells": [
    {
      "cell_type": "code",
      "source": [
        "#Install package using pip\n",
        "! pip install text2emotion"
      ],
      "metadata": {
        "id": "6QPuVJPNHadN"
      },
      "execution_count": null,
      "outputs": []
    },
    {
      "cell_type": "code",
      "source": [
        "!pip uninstall emoji\n",
        "!pip install emoji==1.7"
      ],
      "metadata": {
        "id": "ImOO9l2BLaLA"
      },
      "execution_count": null,
      "outputs": []
    },
    {
      "cell_type": "code",
      "execution_count": null,
      "metadata": {
        "id": "UZH3dFDAKy3d",
        "colab": {
          "base_uri": "https://localhost:8080/"
        },
        "outputId": "43ebea10-a92e-4274-a5ad-41d416b0b226"
      },
      "outputs": [
        {
          "output_type": "stream",
          "name": "stderr",
          "text": [
            "[nltk_data] Downloading package stopwords to /root/nltk_data...\n",
            "[nltk_data]   Unzipping corpora/stopwords.zip.\n",
            "[nltk_data] Downloading package punkt to /root/nltk_data...\n",
            "[nltk_data]   Unzipping tokenizers/punkt.zip.\n",
            "[nltk_data] Downloading package wordnet to /root/nltk_data...\n",
            "[nltk_data] Downloading package punkt to /root/nltk_data...\n",
            "[nltk_data]   Package punkt is already up-to-date!\n",
            "[nltk_data] Downloading package omw-1.4 to /root/nltk_data...\n",
            "[nltk_data] Downloading package averaged_perceptron_tagger to\n",
            "[nltk_data]     /root/nltk_data...\n",
            "[nltk_data]   Unzipping taggers/averaged_perceptron_tagger.zip.\n"
          ]
        },
        {
          "output_type": "execute_result",
          "data": {
            "text/plain": [
              "True"
            ]
          },
          "metadata": {},
          "execution_count": 3
        }
      ],
      "source": [
        "#import libraries\n",
        "import pandas as pd\n",
        "import nltk\n",
        "import string\n",
        "import text2emotion as te\n",
        "from nltk.tokenize import sent_tokenize, word_tokenize\n",
        "from nltk.corpus import stopwords\n",
        "nltk.download('punkt')\n",
        "nltk.download('omw-1.4')\n",
        "nltk.download('averaged_perceptron_tagger')"
      ]
    },
    {
      "cell_type": "code",
      "source": [
        "# List of Columns\n",
        "column_list=['id1','id', 'label', 'statement', 'subject', 'speaker', 'job_title', 'state_info', 'party_affiliation', 'barely_true_counts', \n",
        "     'false_counts', 'half_true_counts', 'mostly_true_counts', 'pants_onfire_counts', 'context', 'extracted justification']\n"
      ],
      "metadata": {
        "id": "d7LXdgmaNEJk"
      },
      "execution_count": null,
      "outputs": []
    },
    {
      "cell_type": "code",
      "source": [
        "# Load datasets from drive\n",
        "df_train=pd.read_csv('/content/drive/MyDrive/dataset/train2.tsv', sep='\\t', header=None, index_col=False)\n",
        "df_test= pd.read_csv('/content/drive/MyDrive/dataset/test2.tsv', sep='\\t', header=None, index_col=False)\n",
        "df_validation=pd.read_csv('/content/drive/MyDrive/dataset/val2.tsv', sep='\\t', header=None, index_col=False)"
      ],
      "metadata": {
        "id": "8LvYzYflOOCF"
      },
      "execution_count": null,
      "outputs": []
    },
    {
      "cell_type": "code",
      "source": [
        "# Print shape of datasets\n",
        "print( 'Train Data Shape: ', df_train.shape )\n",
        "print( 'Test Data Shape: ', df_test.shape )\n",
        "print( 'Validation Data Shape: ', df_validation.shape )"
      ],
      "metadata": {
        "colab": {
          "base_uri": "https://localhost:8080/"
        },
        "id": "VKxY32vuke4v",
        "outputId": "753d3ede-e5b6-4b93-ee6b-735d2ffcc526"
      },
      "execution_count": null,
      "outputs": [
        {
          "output_type": "stream",
          "name": "stdout",
          "text": [
            "Train Data Shape:  (10240, 16)\n",
            "Test Data Shape:  (1267, 16)\n",
            "Validation Data Shape:  (1284, 16)\n"
          ]
        }
      ]
    },
    {
      "cell_type": "code",
      "source": [
        "# Concat datasets into single dataframe for feature extractions\n",
        "df=pd.concat([df_train, df_test, df_validation])\n",
        "df.columns=column_list\n",
        "df.head()"
      ],
      "metadata": {
        "colab": {
          "base_uri": "https://localhost:8080/",
          "height": 686
        },
        "id": "okqdvYUePAKj",
        "outputId": "9e7fd677-cc36-4336-f3d6-077b03af036a"
      },
      "execution_count": null,
      "outputs": [
        {
          "output_type": "execute_result",
          "data": {
            "text/plain": [
              "   id1          id        label  \\\n",
              "0    0   2635.json        false   \n",
              "1    1  10540.json    half-true   \n",
              "2    2    324.json  mostly-true   \n",
              "3    3   1123.json        false   \n",
              "4    4   9028.json    half-true   \n",
              "\n",
              "                                           statement  \\\n",
              "0  Says the Annies List political group supports ...   \n",
              "1  When did the decline of coal start? It started...   \n",
              "2  Hillary Clinton agrees with John McCain \"by vo...   \n",
              "3  Health care reform legislation is likely to ma...   \n",
              "4  The economic turnaround started at the end of ...   \n",
              "\n",
              "                              subject         speaker             job_title  \\\n",
              "0                            abortion    dwayne-bohac  State representative   \n",
              "1  energy,history,job-accomplishments  scott-surovell        State delegate   \n",
              "2                      foreign-policy    barack-obama             President   \n",
              "3                         health-care    blog-posting                   NaN   \n",
              "4                        economy,jobs   charlie-crist                   NaN   \n",
              "\n",
              "  state_info party_affiliation  barely_true_counts  false_counts  \\\n",
              "0      Texas        republican                 0.0           1.0   \n",
              "1   Virginia          democrat                 0.0           0.0   \n",
              "2   Illinois          democrat                70.0          71.0   \n",
              "3        NaN              none                 7.0          19.0   \n",
              "4    Florida          democrat                15.0           9.0   \n",
              "\n",
              "   half_true_counts  mostly_true_counts  pants_onfire_counts  \\\n",
              "0               0.0                 0.0                  0.0   \n",
              "1               1.0                 1.0                  0.0   \n",
              "2             160.0               163.0                  9.0   \n",
              "3               3.0                 5.0                 44.0   \n",
              "4              20.0                19.0                  2.0   \n",
              "\n",
              "               context                            extracted justification  \n",
              "0             a mailer  That's a premise that he fails to back up. Ann...  \n",
              "1      a floor speech.  Surovell said the decline of coal \"started whe...  \n",
              "2               Denver  Obama said he would have voted against the ame...  \n",
              "3       a news release  The release may have a point that Mikulskis co...  \n",
              "4  an interview on CNN  Crist said that the economic \"turnaround start...  "
            ],
            "text/html": [
              "\n",
              "  <div id=\"df-6523fdff-05f9-4895-b3b7-b0355301dd6b\">\n",
              "    <div class=\"colab-df-container\">\n",
              "      <div>\n",
              "<style scoped>\n",
              "    .dataframe tbody tr th:only-of-type {\n",
              "        vertical-align: middle;\n",
              "    }\n",
              "\n",
              "    .dataframe tbody tr th {\n",
              "        vertical-align: top;\n",
              "    }\n",
              "\n",
              "    .dataframe thead th {\n",
              "        text-align: right;\n",
              "    }\n",
              "</style>\n",
              "<table border=\"1\" class=\"dataframe\">\n",
              "  <thead>\n",
              "    <tr style=\"text-align: right;\">\n",
              "      <th></th>\n",
              "      <th>id1</th>\n",
              "      <th>id</th>\n",
              "      <th>label</th>\n",
              "      <th>statement</th>\n",
              "      <th>subject</th>\n",
              "      <th>speaker</th>\n",
              "      <th>job_title</th>\n",
              "      <th>state_info</th>\n",
              "      <th>party_affiliation</th>\n",
              "      <th>barely_true_counts</th>\n",
              "      <th>false_counts</th>\n",
              "      <th>half_true_counts</th>\n",
              "      <th>mostly_true_counts</th>\n",
              "      <th>pants_onfire_counts</th>\n",
              "      <th>context</th>\n",
              "      <th>extracted justification</th>\n",
              "    </tr>\n",
              "  </thead>\n",
              "  <tbody>\n",
              "    <tr>\n",
              "      <th>0</th>\n",
              "      <td>0</td>\n",
              "      <td>2635.json</td>\n",
              "      <td>false</td>\n",
              "      <td>Says the Annies List political group supports ...</td>\n",
              "      <td>abortion</td>\n",
              "      <td>dwayne-bohac</td>\n",
              "      <td>State representative</td>\n",
              "      <td>Texas</td>\n",
              "      <td>republican</td>\n",
              "      <td>0.0</td>\n",
              "      <td>1.0</td>\n",
              "      <td>0.0</td>\n",
              "      <td>0.0</td>\n",
              "      <td>0.0</td>\n",
              "      <td>a mailer</td>\n",
              "      <td>That's a premise that he fails to back up. Ann...</td>\n",
              "    </tr>\n",
              "    <tr>\n",
              "      <th>1</th>\n",
              "      <td>1</td>\n",
              "      <td>10540.json</td>\n",
              "      <td>half-true</td>\n",
              "      <td>When did the decline of coal start? It started...</td>\n",
              "      <td>energy,history,job-accomplishments</td>\n",
              "      <td>scott-surovell</td>\n",
              "      <td>State delegate</td>\n",
              "      <td>Virginia</td>\n",
              "      <td>democrat</td>\n",
              "      <td>0.0</td>\n",
              "      <td>0.0</td>\n",
              "      <td>1.0</td>\n",
              "      <td>1.0</td>\n",
              "      <td>0.0</td>\n",
              "      <td>a floor speech.</td>\n",
              "      <td>Surovell said the decline of coal \"started whe...</td>\n",
              "    </tr>\n",
              "    <tr>\n",
              "      <th>2</th>\n",
              "      <td>2</td>\n",
              "      <td>324.json</td>\n",
              "      <td>mostly-true</td>\n",
              "      <td>Hillary Clinton agrees with John McCain \"by vo...</td>\n",
              "      <td>foreign-policy</td>\n",
              "      <td>barack-obama</td>\n",
              "      <td>President</td>\n",
              "      <td>Illinois</td>\n",
              "      <td>democrat</td>\n",
              "      <td>70.0</td>\n",
              "      <td>71.0</td>\n",
              "      <td>160.0</td>\n",
              "      <td>163.0</td>\n",
              "      <td>9.0</td>\n",
              "      <td>Denver</td>\n",
              "      <td>Obama said he would have voted against the ame...</td>\n",
              "    </tr>\n",
              "    <tr>\n",
              "      <th>3</th>\n",
              "      <td>3</td>\n",
              "      <td>1123.json</td>\n",
              "      <td>false</td>\n",
              "      <td>Health care reform legislation is likely to ma...</td>\n",
              "      <td>health-care</td>\n",
              "      <td>blog-posting</td>\n",
              "      <td>NaN</td>\n",
              "      <td>NaN</td>\n",
              "      <td>none</td>\n",
              "      <td>7.0</td>\n",
              "      <td>19.0</td>\n",
              "      <td>3.0</td>\n",
              "      <td>5.0</td>\n",
              "      <td>44.0</td>\n",
              "      <td>a news release</td>\n",
              "      <td>The release may have a point that Mikulskis co...</td>\n",
              "    </tr>\n",
              "    <tr>\n",
              "      <th>4</th>\n",
              "      <td>4</td>\n",
              "      <td>9028.json</td>\n",
              "      <td>half-true</td>\n",
              "      <td>The economic turnaround started at the end of ...</td>\n",
              "      <td>economy,jobs</td>\n",
              "      <td>charlie-crist</td>\n",
              "      <td>NaN</td>\n",
              "      <td>Florida</td>\n",
              "      <td>democrat</td>\n",
              "      <td>15.0</td>\n",
              "      <td>9.0</td>\n",
              "      <td>20.0</td>\n",
              "      <td>19.0</td>\n",
              "      <td>2.0</td>\n",
              "      <td>an interview on CNN</td>\n",
              "      <td>Crist said that the economic \"turnaround start...</td>\n",
              "    </tr>\n",
              "  </tbody>\n",
              "</table>\n",
              "</div>\n",
              "      <button class=\"colab-df-convert\" onclick=\"convertToInteractive('df-6523fdff-05f9-4895-b3b7-b0355301dd6b')\"\n",
              "              title=\"Convert this dataframe to an interactive table.\"\n",
              "              style=\"display:none;\">\n",
              "        \n",
              "  <svg xmlns=\"http://www.w3.org/2000/svg\" height=\"24px\"viewBox=\"0 0 24 24\"\n",
              "       width=\"24px\">\n",
              "    <path d=\"M0 0h24v24H0V0z\" fill=\"none\"/>\n",
              "    <path d=\"M18.56 5.44l.94 2.06.94-2.06 2.06-.94-2.06-.94-.94-2.06-.94 2.06-2.06.94zm-11 1L8.5 8.5l.94-2.06 2.06-.94-2.06-.94L8.5 2.5l-.94 2.06-2.06.94zm10 10l.94 2.06.94-2.06 2.06-.94-2.06-.94-.94-2.06-.94 2.06-2.06.94z\"/><path d=\"M17.41 7.96l-1.37-1.37c-.4-.4-.92-.59-1.43-.59-.52 0-1.04.2-1.43.59L10.3 9.45l-7.72 7.72c-.78.78-.78 2.05 0 2.83L4 21.41c.39.39.9.59 1.41.59.51 0 1.02-.2 1.41-.59l7.78-7.78 2.81-2.81c.8-.78.8-2.07 0-2.86zM5.41 20L4 18.59l7.72-7.72 1.47 1.35L5.41 20z\"/>\n",
              "  </svg>\n",
              "      </button>\n",
              "      \n",
              "  <style>\n",
              "    .colab-df-container {\n",
              "      display:flex;\n",
              "      flex-wrap:wrap;\n",
              "      gap: 12px;\n",
              "    }\n",
              "\n",
              "    .colab-df-convert {\n",
              "      background-color: #E8F0FE;\n",
              "      border: none;\n",
              "      border-radius: 50%;\n",
              "      cursor: pointer;\n",
              "      display: none;\n",
              "      fill: #1967D2;\n",
              "      height: 32px;\n",
              "      padding: 0 0 0 0;\n",
              "      width: 32px;\n",
              "    }\n",
              "\n",
              "    .colab-df-convert:hover {\n",
              "      background-color: #E2EBFA;\n",
              "      box-shadow: 0px 1px 2px rgba(60, 64, 67, 0.3), 0px 1px 3px 1px rgba(60, 64, 67, 0.15);\n",
              "      fill: #174EA6;\n",
              "    }\n",
              "\n",
              "    [theme=dark] .colab-df-convert {\n",
              "      background-color: #3B4455;\n",
              "      fill: #D2E3FC;\n",
              "    }\n",
              "\n",
              "    [theme=dark] .colab-df-convert:hover {\n",
              "      background-color: #434B5C;\n",
              "      box-shadow: 0px 1px 3px 1px rgba(0, 0, 0, 0.15);\n",
              "      filter: drop-shadow(0px 1px 2px rgba(0, 0, 0, 0.3));\n",
              "      fill: #FFFFFF;\n",
              "    }\n",
              "  </style>\n",
              "\n",
              "      <script>\n",
              "        const buttonEl =\n",
              "          document.querySelector('#df-6523fdff-05f9-4895-b3b7-b0355301dd6b button.colab-df-convert');\n",
              "        buttonEl.style.display =\n",
              "          google.colab.kernel.accessAllowed ? 'block' : 'none';\n",
              "\n",
              "        async function convertToInteractive(key) {\n",
              "          const element = document.querySelector('#df-6523fdff-05f9-4895-b3b7-b0355301dd6b');\n",
              "          const dataTable =\n",
              "            await google.colab.kernel.invokeFunction('convertToInteractive',\n",
              "                                                     [key], {});\n",
              "          if (!dataTable) return;\n",
              "\n",
              "          const docLinkHtml = 'Like what you see? Visit the ' +\n",
              "            '<a target=\"_blank\" href=https://colab.research.google.com/notebooks/data_table.ipynb>data table notebook</a>'\n",
              "            + ' to learn more about interactive tables.';\n",
              "          element.innerHTML = '';\n",
              "          dataTable['output_type'] = 'display_data';\n",
              "          await google.colab.output.renderOutput(dataTable, element);\n",
              "          const docLink = document.createElement('div');\n",
              "          docLink.innerHTML = docLinkHtml;\n",
              "          element.appendChild(docLink);\n",
              "        }\n",
              "      </script>\n",
              "    </div>\n",
              "  </div>\n",
              "  "
            ]
          },
          "metadata": {},
          "execution_count": 7
        }
      ]
    },
    {
      "cell_type": "markdown",
      "source": [
        "## **Syntax-based /Lexical Features Extraction**"
      ],
      "metadata": {
        "id": "VUJKaRnWDJ31"
      }
    },
    {
      "cell_type": "code",
      "source": [
        "# Char count extraction\n",
        "statements=df['statement'].to_list()\n",
        "char_count=[]\n",
        "for statement in statements:\n",
        "  char_count.append(len(statement))\n",
        "df['char_count']=char_count"
      ],
      "metadata": {
        "id": "FwT6FrO1kEd2"
      },
      "execution_count": null,
      "outputs": []
    },
    {
      "cell_type": "code",
      "source": [
        "# Word count extraction\n",
        "word_count=[]\n",
        "for statement in statements:\n",
        "  word_count.append(len(statement.split(' ')))\n",
        "df['word_count']=word_count"
      ],
      "metadata": {
        "id": "TATig7gLlv-b"
      },
      "execution_count": null,
      "outputs": []
    },
    {
      "cell_type": "code",
      "source": [
        "# sentence_count extraction\n",
        "sentence_count=[]\n",
        "for statement in statements:\n",
        "  sentence_count.append(len(sent_tokenize(statement)) )\n",
        "df['sentence_count']= sentence_count"
      ],
      "metadata": {
        "id": "nlERfmaRwhzD"
      },
      "execution_count": null,
      "outputs": []
    },
    {
      "cell_type": "code",
      "source": [
        "# Stop word count\n",
        "nltk.download('stopwords')\n",
        "stops = set(stopwords.words('english'))\n",
        "stopword_count=[]\n",
        "for statement in statements:\n",
        "  word_tokens = word_tokenize(statement) \n",
        "  stopwords_x = len([w for w in word_tokens if w in stops])\n",
        "  stopword_count.append(stopwords_x)\n",
        "df['stopword_count']=stopword_count"
      ],
      "metadata": {
        "colab": {
          "base_uri": "https://localhost:8080/"
        },
        "id": "fF1sbAvUofDZ",
        "outputId": "93c34717-75ca-49fc-a95d-fe7109208bd2"
      },
      "execution_count": null,
      "outputs": [
        {
          "output_type": "stream",
          "name": "stderr",
          "text": [
            "[nltk_data] Downloading package stopwords to /root/nltk_data...\n",
            "[nltk_data]   Package stopwords is already up-to-date!\n"
          ]
        }
      ]
    },
    {
      "cell_type": "code",
      "source": [
        "# Upper case word count\n",
        "Uppercase_count=[]\n",
        "for statement in statements:\n",
        "  word_tokens = word_tokenize(statement) \n",
        "  Uppercase_x = len([w for w in word_tokens if w.isupper()])\n",
        "  Uppercase_count.append(Uppercase_x)\n",
        "df['Uppercase_count']=Uppercase_count"
      ],
      "metadata": {
        "id": "Z0DnqZk_pajL"
      },
      "execution_count": null,
      "outputs": []
    },
    {
      "cell_type": "code",
      "source": [
        "# Average word length\n",
        "Averageword_len=[]\n",
        "for statement in statements:\n",
        "  sum_wordlenght=0\n",
        "  word_tokens = word_tokenize(statement) \n",
        "  for w in word_tokens:\n",
        "    sum_wordlenght=sum_wordlenght + len(w)\n",
        "\n",
        "  Averageword_len.append(sum_wordlenght/len(word_tokens))\n",
        "\n",
        "df['Averageword_len']=Averageword_len"
      ],
      "metadata": {
        "id": "D5IqXTQUrKIf"
      },
      "execution_count": null,
      "outputs": []
    },
    {
      "cell_type": "code",
      "source": [
        "# Average sentence length\n",
        "df['avgsentence_len']=  df['word_count'] / df['sentence_count']"
      ],
      "metadata": {
        "id": "ab2L_XjIxm9I"
      },
      "execution_count": null,
      "outputs": []
    },
    {
      "cell_type": "code",
      "source": [
        "# Punctuations counts \n",
        "Punctuations_count=[]\n",
        "punc=string.punctuation\n",
        "for statement in statements:\n",
        "  Punctuations_x = len([w for w in statement if w in punc])\n",
        "  Punctuations_count.append(Punctuations_x)\n",
        "df['Punctuations counts']=Punctuations_count"
      ],
      "metadata": {
        "id": "4bQsQY96zeAq"
      },
      "execution_count": null,
      "outputs": []
    },
    {
      "cell_type": "code",
      "source": [
        "# Number count\n",
        "Number_count=[]\n",
        "for statement in statements:\n",
        "  word_tokens = word_tokenize(statement) \n",
        "  Number_x = len([w for w in word_tokens if w.isdigit()])\n",
        "  Number_count.append(Number_x)\n",
        "df['Number_count']=Number_count"
      ],
      "metadata": {
        "id": "rBiFcpIe2LpA"
      },
      "execution_count": null,
      "outputs": []
    },
    {
      "cell_type": "code",
      "source": [
        "# Counting POS tags \n",
        "NN=[]\n",
        "CC=[]\n",
        "JJ=[]\n",
        "VB=[]\n",
        "for statement in statements:\n",
        "  tokens = nltk.word_tokenize(statement.lower())\n",
        "  text = nltk.Text(tokens)\n",
        "  tagged = nltk.pos_tag(text)\n",
        "  from collections import Counter\n",
        "  counts = Counter(tag for word, tag in tagged)\n",
        "\n",
        "  if 'NN' in counts:\n",
        "    NN.append(counts['NN'])\n",
        "  else:\n",
        "    NN.append(0)\n",
        "\n",
        "  if 'CC' in counts:\n",
        "    CC.append(counts['CC'])\n",
        "  else:\n",
        "    CC.append(0)\n",
        "\n",
        "  if 'JJ' in counts:\n",
        "    JJ.append(counts['JJ'])\n",
        "  else:\n",
        "    JJ.append(0)\n",
        "\n",
        "  if 'VB' in counts:\n",
        "    VB.append(counts['VB'])\n",
        "  else:\n",
        "    VB.append(0)\n",
        "\n",
        "\n",
        "df['noun']=NN\n",
        "df['conjunction']=CC\n",
        "df['adjective']=JJ\n",
        "df['verb']=VB"
      ],
      "metadata": {
        "id": "aBy8MdrY272W"
      },
      "execution_count": null,
      "outputs": []
    },
    {
      "cell_type": "code",
      "source": [
        "# Counting POS tags \n",
        "\n",
        "RB=[]\n",
        "IN=[]\n",
        "PRP=[]\n",
        "for statement in statements:\n",
        "  tokens = nltk.word_tokenize(statement.lower())\n",
        "  text = nltk.Text(tokens)\n",
        "  tagged = nltk.pos_tag(text)\n",
        "  from collections import Counter\n",
        "  counts = Counter(tag for word, tag in tagged)\n",
        "  \n",
        "  if 'RB' in counts:\n",
        "    RB.append(counts['RB'])\n",
        "  else:\n",
        "    RB.append(0)\n",
        "\n",
        "  if 'IN' in counts:\n",
        "    IN.append(counts['IN'])\n",
        "  else:\n",
        "    IN.append(0)\n",
        "\n",
        "  if 'PRP' in counts:\n",
        "    PRP.append(counts['PRP'])\n",
        "  else:\n",
        "    PRP.append(0)\n",
        "\n",
        "df['adverb']=RB\n",
        "df['preposition']=IN\n",
        "df['pronoun']=PRP"
      ],
      "metadata": {
        "id": "7803-_hV9XR0"
      },
      "execution_count": null,
      "outputs": []
    },
    {
      "cell_type": "markdown",
      "source": [
        "## **Sentiment-based Features**"
      ],
      "metadata": {
        "id": "yUAMTQNPDmkw"
      }
    },
    {
      "cell_type": "code",
      "source": [
        "from textblob import TextBlob\n",
        "\n",
        "#Create a function to get the subjectivity\n",
        "def getSubjectivity(text):\n",
        "   return TextBlob(text).sentiment.subjectivity\n",
        "  \n",
        "#Create a function to get the polarity\n",
        "def getPolarity(text):\n",
        "  return TextBlob(text).sentiment.polarity\n",
        "\n",
        "# create function to get emotion\n",
        "# def txt2emotion(text):\n",
        "\n",
        "#   emotions=te.get_emotion(text)\n",
        "#   return max(emotions, key=emotions.get)\n",
        "  \n",
        " #Create three new columns ‘Subjectivity’ & ‘Polarity & Emotions’\n",
        "df['Subjectivity']  =    df['statement'].apply(getSubjectivity)\n",
        "df['Polarity']      =       df['statement'].apply(getPolarity)\n",
        "# df['Emotions'] =  df['statement'].apply(txt2emotion)"
      ],
      "metadata": {
        "id": "gSfhfFlMDrOO"
      },
      "execution_count": null,
      "outputs": []
    },
    {
      "cell_type": "code",
      "source": [
        "df.loc[:, 'char_count':]"
      ],
      "metadata": {
        "id": "gtT0sPLHBZle"
      },
      "execution_count": null,
      "outputs": []
    },
    {
      "cell_type": "markdown",
      "source": [
        "## **LIWC Feature Extraction**"
      ],
      "metadata": {
        "id": "YhgIH_BEhAOw"
      }
    },
    {
      "cell_type": "code",
      "source": [
        "!pip install liwc\n",
        "import liwc "
      ],
      "metadata": {
        "id": "2_vUU7hvhGma"
      },
      "execution_count": null,
      "outputs": []
    },
    {
      "cell_type": "code",
      "source": [],
      "metadata": {
        "id": "g-pKB49nhK93"
      },
      "execution_count": null,
      "outputs": []
    },
    {
      "cell_type": "markdown",
      "source": [
        "## **Readability-based Features Extraction**"
      ],
      "metadata": {
        "id": "LIhx8jiyk83B"
      }
    },
    {
      "cell_type": "code",
      "source": [
        "! pip install textstat\n",
        "import textstat"
      ],
      "metadata": {
        "id": "J6ZHNAFwphzS"
      },
      "execution_count": null,
      "outputs": []
    },
    {
      "cell_type": "code",
      "source": [
        "def fk(text):\n",
        "  #Flesch-Kincaid score\n",
        "  fk=textstat.flesch_kincaid_grade(text)\n",
        "  return fk\n",
        "\n",
        "def f(text):\n",
        "  # Flesch Reading Ease\n",
        "  f=textstat.flesch_reading_ease(text)\n",
        "  return f\n",
        "  \n",
        "  \n",
        "\n",
        "def gf(text):\n",
        "  #Gunning Fog index\n",
        "  gf=textstat.gunning_fog(text)\n",
        "  return gf\n",
        "\n",
        "\n",
        "def cl(text):\n",
        "  #Coleman Liau\n",
        "  cl=textstat.coleman_liau_index(text)\n",
        "  return cl\n",
        "\n",
        "def ar(text):\n",
        "  #Automated Readability Index\n",
        "  Ari=textstat.automated_readability_index(text)\n",
        "  return Ari\n",
        "\n",
        "def s(text):\n",
        "  # The SMOG Index\n",
        "  s=textstat.smog_index(text)\n",
        "  return s"
      ],
      "metadata": {
        "id": "fy9ezHz5lNRS"
      },
      "execution_count": null,
      "outputs": []
    },
    {
      "cell_type": "code",
      "source": [
        "df['Flesch Reading Ease']  =    df['statement'].apply(f)\n",
        "df['Automated Readability Index']      =       df['statement'].apply(ar)\n",
        "df['Gunning Fog index']  =    df['statement'].apply(gf)\n",
        "df['Coleman Liau']      =       df['statement'].apply(cl)\n",
        "df['Flesch-Kincaid score']  =    df['statement'].apply(fk)\n",
        "df['The SMOG Index']      =       df['statement'].apply(s)"
      ],
      "metadata": {
        "id": "-TLiXuxcoibJ"
      },
      "execution_count": null,
      "outputs": []
    },
    {
      "cell_type": "markdown",
      "source": [
        "## **Data Preprocessing For Model**"
      ],
      "metadata": {
        "id": "_V2HbmfM1t7_"
      }
    },
    {
      "cell_type": "code",
      "source": [
        "# drop some columns\n",
        "df.drop(['id1', 'id', 'statement', 'extracted justification'], axis =1,inplace=True)"
      ],
      "metadata": {
        "id": "XXdGh2xAv-Fu"
      },
      "execution_count": null,
      "outputs": []
    },
    {
      "cell_type": "code",
      "source": [
        "# encoding categorical features\n",
        "cat_cols=['label', 'subject', 'speaker', 'job_title', 'state_info',\n",
        "       'party_affiliation','context']\n",
        "\n",
        "from sklearn.preprocessing import LabelEncoder\n",
        "le=LabelEncoder()\n",
        "for i in cat_cols:\n",
        "  df[i]=le.fit_transform(df[i])"
      ],
      "metadata": {
        "id": "Nc7sQED-wNIV"
      },
      "execution_count": null,
      "outputs": []
    },
    {
      "cell_type": "code",
      "source": [
        "# Filling missing values\n",
        "df.fillna(-9999, inplace=True)"
      ],
      "metadata": {
        "id": "hT4eL3YtwsmE"
      },
      "execution_count": null,
      "outputs": []
    },
    {
      "cell_type": "code",
      "source": [
        "df.reset_index(inplace=True, drop=True)\n",
        "df"
      ],
      "metadata": {
        "id": "jEEOf_YSy9HJ"
      },
      "execution_count": null,
      "outputs": []
    },
    {
      "cell_type": "code",
      "source": [
        "# split data to train, test, val\n",
        "df_train=df.loc[:10239, :]\n",
        "df_test=df.loc[10240:11506, :]\n",
        "df_validation=df.loc[11507:, :]"
      ],
      "metadata": {
        "id": "-ksj_sylycPz"
      },
      "execution_count": null,
      "outputs": []
    },
    {
      "cell_type": "code",
      "source": [
        "# split to dependent and independent variables\n",
        "X_train= df_train.drop('label', axis=1)\n",
        "X_test=  df_test.drop('label', axis=1)\n",
        "Y_train= df_train['label']\n",
        "Y_test= df_test['label']\n",
        "X_val= df_validation.drop('label', axis=1)\n",
        "Y_val= df_validation['label']"
      ],
      "metadata": {
        "id": "tixGLFxpzMBX"
      },
      "execution_count": null,
      "outputs": []
    },
    {
      "cell_type": "code",
      "source": [
        "# Feature scaling\n",
        "from sklearn.preprocessing import StandardScaler\n",
        "sc=StandardScaler()\n",
        "X_train= sc.fit_transform(X_train)\n",
        "X_test= sc.transform(X_test)\n",
        "X_val= sc.transform(X_val)"
      ],
      "metadata": {
        "id": "r8WZZ1oYsh0s"
      },
      "execution_count": null,
      "outputs": []
    },
    {
      "cell_type": "markdown",
      "source": [
        "## **Preliminary Model**"
      ],
      "metadata": {
        "id": "l9dn9_eK2SDT"
      }
    },
    {
      "cell_type": "code",
      "source": [
        "# Light GBM\n",
        "import lightgbm as lgb\n",
        "Lr=lgb.LGBMClassifier()\n",
        "Lr.fit(X_train, Y_train )\n",
        "print('Train Accuracy Score: ', Lr.score(X_train, Y_train ) )\n",
        "print('Test Accuracy Score: ', Lr.score(X_test, Y_test ) )\n",
        "print('Validation Accuracy Score: ', Lr.score(X_val, Y_val ) )"
      ],
      "metadata": {
        "colab": {
          "base_uri": "https://localhost:8080/"
        },
        "id": "KsaSPIak0kTy",
        "outputId": "0361fb6e-7884-4c63-b27d-d844234883fa"
      },
      "execution_count": null,
      "outputs": [
        {
          "output_type": "stream",
          "name": "stdout",
          "text": [
            "Train Accuracy Score:  0.9259765625\n",
            "Test Accuracy Score:  0.4340962904498816\n",
            "Validation Accuracy Score:  0.43769470404984423\n"
          ]
        }
      ]
    },
    {
      "cell_type": "code",
      "source": [
        "import matplotlib.pyplot as plt\n",
        "plt.rcParams[\"figure.figsize\"] = (12, 15)\n",
        "pd.DataFrame({'Features':X_train.columns, 'Value':Lr.feature_importances_}).sort_values(by=\"Value\",ascending=False).set_index('Features').plot(kind='barh')\n",
        "plt.title('Feature Importance Plot')\n",
        "plt.savefig('cc9.jpg')"
      ],
      "metadata": {
        "colab": {
          "base_uri": "https://localhost:8080/",
          "height": 879
        },
        "id": "PnNOMGwA1jBW",
        "outputId": "f86fb507-60b8-4d75-80ee-871ad93dc6c3"
      },
      "execution_count": null,
      "outputs": [
        {
          "output_type": "display_data",
          "data": {
            "text/plain": [
              "<Figure size 864x1080 with 1 Axes>"
            ],
            "image/png": "[encoded data removed]"
          },
          "metadata": {
            "needs_background": "light"
          }
        }
      ]
    },
    {
      "cell_type": "code",
      "source": [
        "# Random Forest\n",
        "from sklearn.ensemble import RandomForestClassifier\n",
        "rf=RandomForestClassifier()\n",
        "rf.fit(X_train, Y_train )\n",
        "print('Train Accuracy Score: ', rf.score(X_train, Y_train ) )\n",
        "print('Test Accuracy Score: ', rf.score(X_test, Y_test ) )\n",
        "print('Validation Accuracy Score: ', rf.score(X_val, Y_val ) )"
      ],
      "metadata": {
        "colab": {
          "base_uri": "https://localhost:8080/"
        },
        "id": "bZxYe9-q2ltz",
        "outputId": "d43e7273-8c3c-4aac-d892-7068d2f94969"
      },
      "execution_count": null,
      "outputs": [
        {
          "output_type": "stream",
          "name": "stdout",
          "text": [
            "Train Accuracy Score:  0.9998046875\n",
            "Test Accuracy Score:  0.4159431728492502\n",
            "Validation Accuracy Score:  0.43613707165109034\n"
          ]
        }
      ]
    },
    {
      "cell_type": "code",
      "source": [
        "import numpy as np\n",
        "features=X_train.columns\n",
        "importances = rf.feature_importances_\n",
        "indices = np.argsort(importances)\n",
        "\n",
        "plt.figure(1)\n",
        "plt.title('Feature Importances')\n",
        "plt.barh(range(len(indices)), importances[indices], color='b', align='center')\n",
        "plt.yticks(range(len(indices)), features[indices])\n",
        "plt.xlabel('Relative Importance')"
      ],
      "metadata": {
        "colab": {
          "base_uri": "https://localhost:8080/",
          "height": 910
        },
        "id": "VBDhtgj83VZ3",
        "outputId": "c15b0a12-4129-4f59-8222-e990a876af4f"
      },
      "execution_count": null,
      "outputs": [
        {
          "output_type": "execute_result",
          "data": {
            "text/plain": [
              "Text(0.5, 0, 'Relative Importance')"
            ]
          },
          "metadata": {},
          "execution_count": 78
        },
        {
          "output_type": "display_data",
          "data": {
            "text/plain": [
              "<Figure size 864x1080 with 1 Axes>"
            ],
            "image/png": "[encoded data removed]"
          },
          "metadata": {
            "needs_background": "light"
          }
        }
      ]
    }
  ]
}